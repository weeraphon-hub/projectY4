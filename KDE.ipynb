{
  "nbformat": 4,
  "nbformat_minor": 0,
  "metadata": {
    "colab": {
      "provenance": [],
      "authorship_tag": "ABX9TyOmjlshfwnsNkqU3x8sX7eh",
      "include_colab_link": true
    },
    "kernelspec": {
      "name": "python3",
      "display_name": "Python 3"
    },
    "language_info": {
      "name": "python"
    }
  },
  "cells": [
    {
      "cell_type": "markdown",
      "metadata": {
        "id": "view-in-github",
        "colab_type": "text"
      },
      "source": [
        "<a href=\"https://colab.research.google.com/github/weeraphon-hub/projectY4/blob/main/KDE.ipynb\" target=\"_parent\"><img src=\"https://colab.research.google.com/assets/colab-badge.svg\" alt=\"Open In Colab\"/></a>"
      ]
    },
    {
      "cell_type": "code",
      "execution_count": null,
      "metadata": {
        "colab": {
          "base_uri": "https://localhost:8080/"
        },
        "id": "Ae8pvlv25K4n",
        "outputId": "fff12138-a136-4fb6-a967-28c180a88ee2"
      },
      "outputs": [
        {
          "output_type": "stream",
          "name": "stdout",
          "text": [
            "Drive already mounted at /content/drive; to attempt to forcibly remount, call drive.mount(\"/content/drive\", force_remount=True).\n"
          ]
        }
      ],
      "source": [
        "import pandas as pd\n",
        "import os\n",
        "\n",
        "from google.colab import drive\n",
        "# Mount Google Drive\n",
        "drive.mount('/content/drive')\n",
        "path = '/content/drive/My Drive/ProjectY4'\n",
        "\n",
        "# Load data from a CSV file in Google Drive\n",
        "data_file_path = os.path.join(path,'database.csv') \n",
        "data = pd.read_csv(data_file_path)['ลำดับที่'].values"
      ]
    },
    {
      "cell_type": "code",
      "source": [
        "data"
      ],
      "metadata": {
        "colab": {
          "base_uri": "https://localhost:8080/"
        },
        "id": "EI3XHTBX_pge",
        "outputId": "469ebe2e-1d04-4379-f81d-92aa2effdb01"
      },
      "execution_count": null,
      "outputs": [
        {
          "output_type": "execute_result",
          "data": {
            "text/plain": [
              "array([  1,   2,   3,   4,   5,   6,   7,   9,  10,  11,  12,  13,  14,\n",
              "        15,  16,  17,  18,  19,  20,  21,  22,  23,  24,  25,  26,  27,\n",
              "        28,  29,  30,  31,  32,  33,  34,  35,  36,  37,  38,  39,  41,\n",
              "        42,  43,  44,  45,  46,  47,  48,  49,  50,  51,  52,  53,  54,\n",
              "        55,  56,  57,  58,  59,  60,  61,  62,  63,  64,  65,  66,  67,\n",
              "        68,  69,  70,  71,  73,  74,  75,  76,  77,  78,  79,  80,  81,\n",
              "        82,  83,  84,  85,  86,  87,  88,  89,  90,  91,  92,  93,  94,\n",
              "        95,  96,  97,  98,  99, 100, 101, 102, 103, 104, 105, 106, 107,\n",
              "       108, 109, 110, 111, 112, 113, 114, 115, 116, 117, 118, 119, 120,\n",
              "       121, 122, 123, 124, 125, 126, 127, 128, 129, 130, 131, 132, 133,\n",
              "       134, 135, 136, 137, 138, 139, 140, 141, 142, 143, 144, 145, 146,\n",
              "       147, 148, 149, 150, 151, 152, 153, 154, 155, 156, 157, 158, 159,\n",
              "       160, 161, 162, 163, 164, 165, 166, 167, 168, 169, 170, 171, 172,\n",
              "       173, 174, 175, 176, 177, 178, 179, 180, 181, 182, 183, 184, 185,\n",
              "       186, 187, 188, 189, 190, 191, 192, 193, 194, 195, 196, 197, 198,\n",
              "       199, 200, 201, 202, 203, 204, 205, 206, 207, 208, 209, 210, 211,\n",
              "       212, 213, 214, 215, 216, 217, 218, 219, 220, 221, 222, 223, 224,\n",
              "       225, 226, 227, 228, 229, 230, 231, 232, 233, 234, 235, 236, 237,\n",
              "       238, 239, 240, 241, 242, 243, 244, 245, 246, 247, 248, 249, 250,\n",
              "       251, 252, 253, 254, 255, 256, 257, 258, 259, 260, 261, 262, 263,\n",
              "       264, 265, 266, 267, 268, 269, 270, 271, 272, 273, 274, 275, 276,\n",
              "       277, 278, 279, 280, 281, 282, 283, 284, 285, 286, 287, 288, 289,\n",
              "       290, 291, 292, 293, 294, 296, 297, 298, 299, 300, 301, 302, 303,\n",
              "       304, 305, 306, 307, 308, 309, 310, 311, 312, 313, 314, 315, 316,\n",
              "       317, 318, 319, 320, 321, 322, 323, 324, 325, 326, 327, 328, 329,\n",
              "       330, 331, 332, 333, 334, 335, 336, 337, 338, 339, 340, 341, 342,\n",
              "       343, 344, 345, 346, 347, 348, 349, 350, 351, 352, 353, 354, 355,\n",
              "       356, 357, 358, 360, 361, 362, 363, 364, 365, 366, 367, 368, 369,\n",
              "       370, 371, 372, 373, 374, 375, 376, 377, 378, 379, 380, 381, 382,\n",
              "       383, 384, 385, 386, 387, 388, 389, 390, 391, 392, 393, 394, 395,\n",
              "       396, 397, 398, 399, 400, 401, 402, 403, 404, 405, 406, 407, 408,\n",
              "       409, 410])"
            ]
          },
          "metadata": {},
          "execution_count": 53
        }
      ]
    },
    {
      "cell_type": "code",
      "source": [
        "import numpy as np\n",
        "import pandas as pd\n",
        "from sklearn.neighbors import KernelDensity\n",
        "from sklearn.model_selection import GridSearchCV\n",
        "from sklearn.model_selection import LeaveOneOut\n",
        "from google.colab import drive"
      ],
      "metadata": {
        "id": "a88WPeto_3N7"
      },
      "execution_count": null,
      "outputs": []
    },
    {
      "cell_type": "code",
      "source": [
        "params = {'bandwidth': np.logspace(-2, 1, 50)}\n",
        "\n",
        "# Set up the kernel density estimator and the grid search cross-validation\n",
        "kde = KernelDensity(kernel='gaussian')\n",
        "grid_search = GridSearchCV(kde, params, cv=LeaveOneOut())\n",
        "\n",
        "# Fit the KDE using the grid search cross-validation\n",
        "grid_search.fit(data.reshape(-1, 1))\n",
        "\n",
        "# Get the best bandwidth parameter from the grid search\n",
        "h = grid_search.best_params_['bandwidth']\n",
        "\n",
        "# Fit the KDE using the best bandwidth parameter\n",
        "kde = KernelDensity(kernel='gaussian', bandwidth=h).fit(data.reshape(-1, 1))"
      ],
      "metadata": {
        "id": "VynzXruW5xJ0"
      },
      "execution_count": null,
      "outputs": []
    },
    {
      "cell_type": "code",
      "source": [
        "h"
      ],
      "metadata": {
        "colab": {
          "base_uri": "https://localhost:8080/"
        },
        "id": "_qdM3ToNB1Md",
        "outputId": "2f4d6d9b-dad7-4535-a5b0-ca08acbd1f79"
      },
      "execution_count": null,
      "outputs": [
        {
          "output_type": "execute_result",
          "data": {
            "text/plain": [
              "10.0"
            ]
          },
          "metadata": {},
          "execution_count": 56
        }
      ]
    }
  ]
}